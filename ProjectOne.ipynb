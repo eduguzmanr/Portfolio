{
  "nbformat": 4,
  "nbformat_minor": 0,
  "metadata": {
    "colab": {
      "name": "ProjectOne.ipynb",
      "provenance": [],
      "collapsed_sections": [],
      "authorship_tag": "ABX9TyNV2/WJPxqEh3q06BSWrfLJ",
      "include_colab_link": true
    },
    "kernelspec": {
      "name": "python3",
      "display_name": "Python 3"
    },
    "language_info": {
      "name": "python"
    }
  },
  "cells": [
    {
      "cell_type": "markdown",
      "metadata": {
        "id": "view-in-github",
        "colab_type": "text"
      },
      "source": [
        "<a href=\"https://colab.research.google.com/github/eduguzmanr/Portfolio/blob/main/ProjectOne.ipynb\" target=\"_parent\"><img src=\"https://colab.research.google.com/assets/colab-badge.svg\" alt=\"Open In Colab\"/></a>"
      ]
    },
    {
      "cell_type": "markdown",
      "metadata": {
        "id": "yrjoVKyBhuXC"
      },
      "source": [
        "## **Loading** **Data**\n"
      ]
    },
    {
      "cell_type": "code",
      "metadata": {
        "id": "HzwYsRXAgs5U"
      },
      "source": [
        "import pandas as pd\n",
        "import numpy as np"
      ],
      "execution_count": null,
      "outputs": []
    },
    {
      "cell_type": "code",
      "metadata": {
        "id": "E62XAobohLjF"
      },
      "source": [
        "netflix = pd.read_csv(\"data (1).csv\")"
      ],
      "execution_count": null,
      "outputs": []
    },
    {
      "cell_type": "code",
      "metadata": {
        "colab": {
          "base_uri": "https://localhost:8080/"
        },
        "id": "uEypUVSXmMpA",
        "outputId": "374d3748-a144-4b24-8554-9ec8c889ca06"
      },
      "source": [
        "netflix.info()"
      ],
      "execution_count": null,
      "outputs": [
        {
          "output_type": "stream",
          "name": "stdout",
          "text": [
            "<class 'pandas.core.frame.DataFrame'>\n",
            "RangeIndex: 7777 entries, 0 to 7776\n",
            "Data columns (total 14 columns):\n",
            " #   Column             Non-Null Count  Dtype  \n",
            "---  ------             --------------  -----  \n",
            " 0   Unnamed: 0         7777 non-null   int64  \n",
            " 1   show_id            7777 non-null   object \n",
            " 2   type               7777 non-null   object \n",
            " 3   title              7777 non-null   object \n",
            " 4   director           5398 non-null   object \n",
            " 5   cast               7059 non-null   object \n",
            " 6   country            7271 non-null   object \n",
            " 7   rating             7770 non-null   object \n",
            " 8   release_year       7777 non-null   int64  \n",
            " 9   year_added         7777 non-null   int64  \n",
            " 10  duration_min       5377 non-null   float64\n",
            " 11  number_of_seasons  2400 non-null   float64\n",
            " 12  listed_in          7777 non-null   object \n",
            " 13  description        7777 non-null   object \n",
            "dtypes: float64(2), int64(3), object(9)\n",
            "memory usage: 850.7+ KB\n"
          ]
        }
      ]
    },
    {
      "cell_type": "markdown",
      "metadata": {
        "id": "BPfqzVu8iAKN"
      },
      "source": [
        "## **Exercise One**"
      ]
    },
    {
      "cell_type": "markdown",
      "metadata": {
        "id": "yeswZvC0iGnf"
      },
      "source": [
        "### 1. How many movie titles mention the  United States?"
      ]
    },
    {
      "cell_type": "code",
      "metadata": {
        "colab": {
          "base_uri": "https://localhost:8080/"
        },
        "id": "47bV1X4KhrFB",
        "outputId": "4f43689f-63ea-4461-f3ef-c923042954d9"
      },
      "source": [
        " count = 0\n",
        " for i in netflix[\"title\"]:\n",
        "   if \"United States\" in i:\n",
        "    count = count + 1\n",
        "    #print(str(count), \" \",i)\n",
        "   else:\n",
        "      continue\n",
        "print(\"There are \", str(count),\" movie titles that mentions the United States\")"
      ],
      "execution_count": null,
      "outputs": [
        {
          "output_type": "stream",
          "name": "stdout",
          "text": [
            "There are only  2  movie titles that mentions the United States\n"
          ]
        }
      ]
    },
    {
      "cell_type": "markdown",
      "metadata": {
        "id": "GaC6OeaJmCpH"
      },
      "source": [
        "### 2. How many movie descriptions mention the United States?"
      ]
    },
    {
      "cell_type": "code",
      "metadata": {
        "colab": {
          "base_uri": "https://localhost:8080/"
        },
        "id": "y9svZWwZmBZi",
        "outputId": "204b5bc2-6601-4611-af67-e4029f458bca"
      },
      "source": [
        " desc = 0\n",
        " for i in netflix[\"description\"]:\n",
        "   if \"United States\" in i:\n",
        "    desc = desc + 1\n",
        "    #print(str(desc), \" \",i)\n",
        "   else:\n",
        "      continue\n",
        "print(\"There are \", str(desc),\" movie descriptions that mentions the United States\")"
      ],
      "execution_count": null,
      "outputs": [
        {
          "output_type": "stream",
          "name": "stdout",
          "text": [
            "There are  5  movie descriptions that mentions the United States\n"
          ]
        }
      ]
    },
    {
      "cell_type": "markdown",
      "metadata": {
        "id": "OpoboDXzngzZ"
      },
      "source": [
        "### 3. How many movies are from the United States?"
      ]
    },
    {
      "cell_type": "code",
      "metadata": {
        "colab": {
          "base_uri": "https://localhost:8080/"
        },
        "id": "0yQU_-vNncQS",
        "outputId": "5225d30e-0004-4849-ee54-3624412ddfbc"
      },
      "source": [
        "title = 0\n",
        "for f in netflix[\"country\"]:\n",
        "  if isinstance(f, str):\n",
        "    if \"United States\" in f:\n",
        "      title = title + 1\n",
        "      #print(str(title), \" \",i)\n",
        "    else:\n",
        "      continue\n",
        "print(\"There are \", str(title),\" movies from the United States\")"
      ],
      "execution_count": null,
      "outputs": [
        {
          "output_type": "stream",
          "name": "stdout",
          "text": [
            "There are  3291  movies from the United States\n"
          ]
        }
      ]
    },
    {
      "cell_type": "markdown",
      "metadata": {
        "id": "RLZ78IiJpe_K"
      },
      "source": [
        "##**Exercise Two**"
      ]
    },
    {
      "cell_type": "markdown",
      "metadata": {
        "id": "aqSie29GplOT"
      },
      "source": [
        "### Write a function to receive any name as input, search the director only and return the number of movies/TV shows that contain that name. "
      ]
    },
    {
      "cell_type": "code",
      "metadata": {
        "id": "sr1Dhtnzphe7"
      },
      "source": [
        "def director(name):\n",
        "  count = 0\n",
        "  for i in netflix[\"director\"]:\n",
        "    if isinstance(i, str):\n",
        "      if name.lower() in i.lower():\n",
        "        count = count + 1\n",
        "      else:\n",
        "        continue\n",
        "  \n",
        "  if count >= 1:\n",
        "    print(\"There are \", str(count), \" directors named \", name, \" in this dataset.\")\n",
        "  else:\n",
        "    print(\"No directors were found with the name: \", name)\n"
      ],
      "execution_count": null,
      "outputs": []
    },
    {
      "cell_type": "code",
      "metadata": {
        "colab": {
          "base_uri": "https://localhost:8080/"
        },
        "id": "yLI7Y--0rZs_",
        "outputId": "acc4b827-5423-4e4e-bde5-550a49b9b5f1"
      },
      "source": [
        "director(\"Paul\")"
      ],
      "execution_count": null,
      "outputs": [
        {
          "output_type": "stream",
          "name": "stdout",
          "text": [
            "There are  67  directors named  Paul  in this dataset.\n"
          ]
        }
      ]
    },
    {
      "cell_type": "markdown",
      "metadata": {
        "id": "4S7IabUmtcr-"
      },
      "source": [
        "## **Exercise Three**"
      ]
    },
    {
      "cell_type": "markdown",
      "metadata": {
        "id": "N8u_RoHKtdXb"
      },
      "source": [
        "### Identify the most common words in the description of TOP TEN LONGEST MOVIES ONLY from the dataset."
      ]
    },
    {
      "cell_type": "code",
      "metadata": {
        "id": "yxY1b1X6tqxZ"
      },
      "source": [
        "# Finding the top 10 longest movies\n",
        "\n",
        "netflix_sorted = netflix.sort_values(\n",
        "    by = \"duration_min\",\n",
        "    ascending = False\n",
        ")\n",
        "\n",
        "\n",
        "netflix_ranked = netflix_sorted.head(10).copy()\n",
        "\n"
      ],
      "execution_count": null,
      "outputs": []
    },
    {
      "cell_type": "code",
      "metadata": {
        "colab": {
          "base_uri": "https://localhost:8080/"
        },
        "id": "YTs-KhpDvtd3",
        "outputId": "483d1a8e-c804-4e9b-ae31-af1b56e814cc"
      },
      "source": [
        "# Adding all description's words into 1 list\n",
        "\n",
        "word_list = []\n",
        "for i in netflix_ranked[\"description\"]:\n",
        "   word_list.append(i.split())\n",
        "\n",
        "word_flat_list = []\n",
        "for lists in word_list:\n",
        "  for word in lists:\n",
        "    word_flat_list.append(word)\n",
        "\n",
        "print(word_flat_list)"
      ],
      "execution_count": null,
      "outputs": [
        {
          "output_type": "stream",
          "name": "stdout",
          "text": [
            "['A', 'high', 'school', 'teacher', 'volunteers', 'to', 'transform', 'five', 'notorious', 'misfits', 'into', 'model', 'students', '—', 'and', 'has', 'unintended', 'results.', 'Hoping', 'to', 'prevent', 'their', 'father', 'from', 'skipping', 'town', 'with', 'his', 'mistress,', 'four', 'rowdy', 'siblings', 'resort', 'to', 'absurd', 'measures', 'to', 'stop', 'him.', 'A', 'widower', 'believes', 'he', 'must', 'marry', 'off', 'his', 'three', 'problematic', 'daughters', 'before', 'he', 'can', 'pursue', 'his', 'real', 'goal', 'of', 'marrying', 'his', 'secret', 'love.', 'When', 'robberies', 'and', 'murders', 'targeting', 'women', 'sweep', 'early', '20th-century', 'Egypt,', 'the', 'hunt', 'for', 'suspects', 'leads', 'to', 'two', 'shadowy', 'sisters.', 'Based', 'on', 'a', 'true', 'story.', 'Returning', 'home', 'from', 'war', 'after', 'being', 'assumed', 'dead,', 'a', 'pilot', 'weds', 'the', 'woman', 'he', 'has', 'long', 'loved,', 'unaware', 'that', 'she', 'had', 'been', 'planning', 'to', 'marry', 'his', 'best', 'friend.', 'In', '1890s', 'India,', 'an', 'arrogant', 'British', 'commander', 'challenges', 'the', 'harshly', 'taxed', 'residents', 'of', 'Champaner', 'to', 'a', 'high-stakes', 'cricket', 'match.', 'In', '16th-century', 'India,', 'what', 'begins', 'as', 'a', 'strategic', 'alliance', 'between', 'a', 'Mughal', 'emperor', 'and', 'a', 'Hindu', 'princess', 'becomes', 'a', 'genuine', 'opportunity', 'for', 'true', 'love.', 'Hit', 'man', 'Frank', 'Sheeran', 'looks', 'back', 'at', 'the', 'secrets', 'he', 'kept', 'as', 'a', 'loyal', 'member', 'of', 'the', 'Bufalino', 'crime', 'family', 'in', 'this', 'acclaimed', 'film', 'from', 'Martin', 'Scorsese.', 'Years', 'after', 'his', 'father', 'disowns', 'his', 'adopted', 'brother', 'for', 'marrying', 'a', 'woman', 'of', 'lower', 'social', 'standing,', 'a', 'young', 'man', 'goes', 'on', 'a', 'mission', 'to', 'reunite', 'his', 'family.', 'Featuring', 'rare', 'concert', 'footage', 'and', 'interviews', 'with', 'legendary', 'musicians,', 'this', 'documentary', 'traces', 'Bob', \"Dylan's\", 'life', 'story', 'and', 'extraordinary', 'career.']\n"
          ]
        }
      ]
    },
    {
      "cell_type": "code",
      "metadata": {
        "colab": {
          "base_uri": "https://localhost:8080/"
        },
        "id": "qFXRD9z08YXL",
        "outputId": "5699d90f-3b52-41bc-c840-3c6c099b8d47"
      },
      "source": [
        "# Counting the unique words and putting them into a Dictionary\n",
        "unique_words = set(word_flat_list)\n",
        "\n",
        "unique_words_value = []\n",
        "for words in unique_words :\n",
        "  unique_words_value.append(word_flat_list.count(words))\n",
        "\n",
        "word_count = dict(zip(unique_words,unique_words_value))\n",
        "\n",
        "print(word_count)\n"
      ],
      "execution_count": null,
      "outputs": [
        {
          "output_type": "stream",
          "name": "stdout",
          "text": [
            "{'becomes': 1, 'measures': 1, 'this': 2, 'acclaimed': 1, 'three': 1, 'brother': 1, 'volunteers': 1, 'In': 2, 'strategic': 1, 'she': 1, 'after': 2, 'best': 1, 'widower': 1, 'planning': 1, 'Bob': 1, 'high-stakes': 1, 'love.': 2, 'pursue': 1, 'genuine': 1, 'Returning': 1, 'loyal': 1, 'goal': 1, 'commander': 1, '—': 1, 'kept': 1, 'long': 1, \"Dylan's\": 1, 'skipping': 1, 'extraordinary': 1, 'with': 2, 'absurd': 1, 'off': 1, 'loved,': 1, 'goes': 1, 'real': 1, 'Martin': 1, 'lower': 1, 'must': 1, 'hunt': 1, 'concert': 1, 'When': 1, 'marry': 2, 'sweep': 1, 'from': 3, '20th-century': 1, 'film': 1, 'footage': 1, 'Hit': 1, 'on': 2, 'stop': 1, 'crime': 1, 'story.': 1, 'his': 8, 'challenges': 1, 'man': 2, 'siblings': 1, 'princess': 1, 'career.': 1, 'before': 1, 'between': 1, 'Sheeran': 1, 'for': 3, 'as': 2, 'into': 1, 'school': 1, 'India,': 2, 'member': 1, 'leads': 1, 'Scorsese.': 1, 'match.': 1, 'interviews': 1, 'five': 1, 'shadowy': 1, '16th-century': 1, 'Mughal': 1, 'been': 1, 'problematic': 1, 'of': 4, 'sisters.': 1, 'their': 1, 'reunite': 1, 'weds': 1, 'legendary': 1, 'social': 1, 'model': 1, 'home': 1, 'alliance': 1, 'a': 11, 'an': 1, 'early': 1, 'resort': 1, 'friend.': 1, 'standing,': 1, 'Featuring': 1, 'town': 1, 'life': 1, 'war': 1, 'harshly': 1, 'marrying': 2, 'what': 1, 'true': 2, 'two': 1, 'unaware': 1, 'British': 1, 'arrogant': 1, 'transform': 1, 'in': 1, 'robberies': 1, 'assumed': 1, 'emperor': 1, 'results.': 1, 'disowns': 1, 'he': 4, 'Based': 1, 'suspects': 1, 'Years': 1, 'woman': 2, '1890s': 1, 'young': 1, 'Hoping': 1, 'at': 1, 'unintended': 1, 'mistress,': 1, 'misfits': 1, 'traces': 1, 'family.': 1, 'opportunity': 1, 'musicians,': 1, 'daughters': 1, 'had': 1, 'pilot': 1, 'A': 2, 'and': 5, 'high': 1, 'Bufalino': 1, 'father': 2, 'begins': 1, 'him.': 1, 'mission': 1, 'students': 1, 'secret': 1, 'targeting': 1, 'can': 1, 'story': 1, 'Champaner': 1, 'family': 1, 'being': 1, 'residents': 1, 'dead,': 1, 'documentary': 1, 'four': 1, 'Hindu': 1, 'that': 1, 'secrets': 1, 'rowdy': 1, 'teacher': 1, 'prevent': 1, 'the': 5, 'looks': 1, 'Egypt,': 1, 'taxed': 1, 'notorious': 1, 'women': 1, 'Frank': 1, 'rare': 1, 'cricket': 1, 'believes': 1, 'back': 1, 'has': 2, 'adopted': 1, 'to': 8, 'murders': 1}\n"
          ]
        }
      ]
    },
    {
      "cell_type": "code",
      "metadata": {
        "colab": {
          "base_uri": "https://localhost:8080/"
        },
        "id": "8d27qdZdC1CE",
        "outputId": "407f8635-4e3f-40dc-d141-012b3fefc2e3"
      },
      "source": [
        "sort_words = sorted(word_count.items(), key=lambda x: x[1], reverse=True)\n",
        "count = 0\n",
        "limit = 20\n",
        "for i in sort_words:\n",
        "  if count < limit:\n",
        "    print(i[0],i[1])\n",
        "    count = count + 1 "
      ],
      "execution_count": null,
      "outputs": [
        {
          "output_type": "stream",
          "name": "stdout",
          "text": [
            "a 11\n",
            "his 8\n",
            "to 8\n",
            "and 5\n",
            "the 5\n",
            "of 4\n",
            "he 4\n",
            "from 3\n",
            "for 3\n",
            "this 2\n",
            "In 2\n",
            "after 2\n",
            "love. 2\n",
            "with 2\n",
            "marry 2\n",
            "on 2\n",
            "man 2\n",
            "as 2\n",
            "India, 2\n",
            "marrying 2\n"
          ]
        }
      ]
    },
    {
      "cell_type": "markdown",
      "metadata": {
        "id": "OEjiXp1fGIHj"
      },
      "source": [
        "## ** Extra Credit **"
      ]
    },
    {
      "cell_type": "markdown",
      "metadata": {
        "id": "y2zIokGvGfqN"
      },
      "source": [
        "### Write a function to receive a cast name as input, search the dataset and return information about that actor from the database\n",
        "\n",
        "### •\tYour function should receive an actor name as an input string and return:\n",
        "\n",
        "### (1) their average movie duration rounded up to a whole number, and\n",
        "\n",
        "### (2) a list of their movies from the list.\n",
        "\n"
      ]
    },
    {
      "cell_type": "code",
      "metadata": {
        "id": "Fbry3PaNGTe2"
      },
      "source": [
        "def cast(name):\n",
        "  duration = []\n",
        "  movies = []\n",
        "  count = 0\n",
        "  number = 0\n",
        "  for i in netflix[\"cast\"]:\n",
        "    if isinstance(i, str):\n",
        "      if name.lower() in i.lower():\n",
        "        duration.append(netflix['duration_min'][count])\n",
        "        movies.append(netflix['title'][count])\n",
        "        number = number + 1\n",
        "      else:\n",
        "        continue\n",
        "    count = count + 1\n",
        "  if number >= 1:\n",
        "    average = round(np.nanmean(duration))\n",
        "    print(\"The average movie duration for cast name: \", name, \" is \", str(average))\n",
        "    print(\"These are the titles of movies who \", name, \" was casted:\")\n",
        "    print(movies)\n",
        "  else:\n",
        "    print(\"No movie found for the artist: \", name)"
      ],
      "execution_count": null,
      "outputs": []
    },
    {
      "cell_type": "code",
      "metadata": {
        "colab": {
          "base_uri": "https://localhost:8080/"
        },
        "id": "PX4Uvs30L9zt",
        "outputId": "a760767c-39cc-4aa3-b778-b2e56f9b1c85"
      },
      "source": [
        "cast(\"LeonardO\")"
      ],
      "execution_count": null,
      "outputs": [
        {
          "output_type": "stream",
          "name": "stdout",
          "text": [
            "The average movie duration for cast name:  LeonardO  is  96\n",
            "These are the titles of movies who  LeonardO  was casted:\n",
            "['14 Cameras', '20 Feet From Stardom', '300 Miles to Heaven', 'A Beautiful Life', 'A Family Reunion Christmas', 'A Haunting at Silver Falls: The Return', 'A Holiday Engagement', 'A Life of Speed: The Juan Manuel Fangio Story', 'A Tale of Love and Darkness', \"A Witches' Ball\", 'Aagey Se Right', 'Accident', 'Across The Line', 'Afronta! Facing It!', 'Alles ist gut', 'Alphablocks', 'AlphaGo', 'Altered Carbon', 'Always a Witch', 'American Son', 'An Unremarkable Christmas', 'Andhadhun', 'Article 15', 'Ask the StoryBots', 'Attack on Titan', 'Auschwitz: Blueprints of Genocide', 'Automata', 'Avatar: The Last Airbender', 'Backdraft 2', 'BAKI', 'Banana Island Ghost', 'Barça Dreams', 'Barcelona: A Love Untold']\n"
          ]
        }
      ]
    }
  ]
}